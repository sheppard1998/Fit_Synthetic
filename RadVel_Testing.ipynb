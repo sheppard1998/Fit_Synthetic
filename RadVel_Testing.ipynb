{
 "cells": [
  {
   "cell_type": "code",
   "execution_count": 55,
   "metadata": {},
   "outputs": [],
   "source": [
    "# Make division and print() behave like Python 3 even if \n",
    "# using Python 2.x:\n",
    "from __future__ import print_function, division\n",
    "\n",
    "# Import the key packages we need:\n",
    "import numpy as np\n",
    "import matplotlib.pyplot as plt\n",
    "# Make default font a bit bigger:\n",
    "import matplotlib\n",
    "matplotlib.rcParams['font.size'] = 18   # Font size in points\n",
    "\n",
    "from astropy.table import Table\n",
    "from astropy.constants import iau2015 as const\n",
    "from astropy import units as u\n",
    "\n",
    "import time as Time\n",
    "\n",
    "import orbits\n",
    "\n",
    "# Plots show in the notebook, not pop-up:\n",
    "%matplotlib inline\n"
   ]
  },
  {
   "cell_type": "code",
   "execution_count": 66,
   "metadata": {
    "scrolled": false
   },
   "outputs": [
    {
     "name": "stdout",
     "output_type": "stream",
     "text": [
      "29.90045574924416 m\n"
     ]
    },
    {
     "data": {
      "image/png": "[encoded data removed]",
      "text/plain": [
       "<Figure size 432x288 with 1 Axes>"
      ]
     },
     "metadata": {
      "needs_background": "light"
     },
     "output_type": "display_data"
    }
   ],
   "source": [
    "#Quantities of earth orbit viewed from a specific position\n",
    "d_pc = 10 #pc\n",
    "parallax = 1/d_pc\n",
    "\n",
    "P = 1 #yr\n",
    "e = 0.01671022\n",
    "T = 1 #yr\n",
    "a_AU = 1.00000011 #AU\n",
    "a_arcsec = orbits.au2arcsec(a_AU, d_pc)\n",
    "i = np.deg2rad(90) #deg\n",
    "w = np.deg2rad(102.94719) #deg\n",
    "Omega = np.deg2rad(-11.26064) #deg\n",
    "\n",
    "A, B, F, G, C, H = orbits.Thiele_Innes_from_Campbell(w, a_arcsec, i, Omega, rv='yes', parallax=parallax)\n",
    "\n",
    "num_obs = 1461\n",
    "\n",
    "times = P*np.arange(num_obs)/(num_obs - 1)\n",
    "\n",
    "ra, dec, radvel = orbits.keplerian_xy_Thiele_Innes(times, A, B, F, G, T, e, P, rv='yes', C=C, H=H)\n",
    "\n",
    "radvel_km_sec = radvel*(const.au/1000)/(365.256*24*60*60)\n",
    "print(np.max(radvel_km_sec))\n",
    "\n",
    "plt.plot(radvel_km_sec)\n",
    "plt.show()"
   ]
  },
  {
   "cell_type": "code",
   "execution_count": 68,
   "metadata": {},
   "outputs": [
    {
     "data": {
      "text/plain": [
       "False"
      ]
     },
     "execution_count": 68,
     "metadata": {},
     "output_type": "execute_result"
    }
   ],
   "source": [
    "None is False"
   ]
  },
  {
   "cell_type": "code",
   "execution_count": 70,
   "metadata": {},
   "outputs": [],
   "source": [
    "if None:\n",
    "    print(\"none is true\")"
   ]
  },
  {
   "cell_type": "code",
   "execution_count": null,
   "metadata": {},
   "outputs": [],
   "source": []
  }
 ],
 "metadata": {
  "kernelspec": {
   "display_name": "Python 3",
   "language": "python",
   "name": "python3"
  },
  "language_info": {
   "codemirror_mode": {
    "name": "ipython",
    "version": 3
   },
   "file_extension": ".py",
   "mimetype": "text/x-python",
   "name": "python",
   "nbconvert_exporter": "python",
   "pygments_lexer": "ipython3",
   "version": "3.7.3"
  }
 },
 "nbformat": 4,
 "nbformat_minor": 2
}
