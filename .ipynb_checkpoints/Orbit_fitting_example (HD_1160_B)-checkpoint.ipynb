{
 "cells": [
  {
   "cell_type": "markdown",
   "metadata": {},
   "source": [
    "# Calculate orbital fits\n",
    "\n",
    "This notebook shows a minimal set of code to do an orbital fit to observed data using routines in `orbits.py`. See the code in that file for more details on individual routines. \n",
    "\n",
    "Example data comes from the paper [Orbits for the Impatient: A Bayesian Rejection-sampling Method for Quickly Fitting the Orbits of Long-period Exoplanets](https://iopscience.iop.org/article/10.3847/1538-3881/aa6930) by L. Pearce et al. \n"
   ]
  },
  {
   "cell_type": "code",
   "execution_count": 1,
   "metadata": {},
   "outputs": [],
   "source": [
    "# Make division and print() behave like Python 3 even if \n",
    "# using Python 2.x:\n",
    "from __future__ import print_function, division\n",
    "\n",
    "# Import the key packages we need:\n",
    "import numpy as np\n",
    "import matplotlib.pyplot as plt\n",
    "# Make default font a bit bigger:\n",
    "import matplotlib\n",
    "matplotlib.rcParams['font.size'] = 18   # Font size in points\n",
    "\n",
    "from astropy.table import Table\n",
    "import time as Time\n",
    "\n",
    "import orbits\n",
    "\n",
    "# Plots show in the notebook, not pop-up:\n",
    "%matplotlib inline\n"
   ]
  },
  {
   "cell_type": "code",
   "execution_count": 2,
   "metadata": {},
   "outputs": [],
   "source": [
    "overall_start_time = Time.time()\n",
    "\n",
    "# Distance to the system in pc:\n",
    "d_pc = 103.50863  # cf. Dupuy et al.  \n",
    "# Name of the system we're fitting: \n",
    "star_name = \"HD 1160 b\"\n",
    "\n",
    "# Read in orbital data, which we have saved in a file. \n",
    "# Positions are in milliarcsecond units.  Different conversions\n",
    "# might be needed if your data are in different units.\n",
    "datafile = \"HD_1160_B.txt\"\n",
    "t = Table.read(datafile, format='ascii.commented_header')\n",
    "\n",
    "# Convert the position angle and separation to RA and Dec separation: \n",
    "ra_obs, dec_obs, ra_errs, dec_errs = orbits.rho_PA_to_RA_Dec( t['rho'],t['PA'], \\\n",
    "                                                              t['rho_err'], t['PA_err'])\n",
    "\n",
    "# Careful with our x-y coordinate system - not the same as RA-Dec!\n",
    "x_obs = dec_obs\n",
    "y_obs = ra_obs\n",
    "x_errs = dec_errs\n",
    "y_errs = ra_errs\n",
    "\n",
    "# Code below assumes dates in years.  Convert if necessary. \n",
    "times_obs = t['Date']"
   ]
  },
  {
   "cell_type": "code",
   "execution_count": 3,
   "metadata": {
    "scrolled": true
   },
   "outputs": [
    {
     "name": "stdout",
     "output_type": "stream",
     "text": [
      "First grid pass of 1000000 points took 4.8 seconds.\n",
      "Doing regridded search from logP = 2.2 to 3.3, e = 0.00 to 1.00, tau = 0.00 to 0.99\n",
      "Double grid search of 2500000 points took 20.2 seconds.\n",
      "Reduced chi-squared of most likely fit is 497.87.\n",
      "Best-fit:\n",
      " e: 1.00 \n",
      " P: 151.569 \n",
      " T: 2014.7 \n",
      " w: 267.16 \n",
      " a: 78.0 \n",
      " i: 90.0 \n",
      " Omega: 65.2 \n",
      " Stellar mass: 0.023\n"
     ]
    }
   ],
   "source": [
    "# Now that we have the data, find the best fit\n",
    "# orbit by searching over a range of parameters:\n",
    "\n",
    "# Get the start date of the data - we'll use\n",
    "# this to set what times of periastron we test:\n",
    "data_start = np.min(times_obs)\n",
    "\n",
    "# Set trial orbital elements over a range.\n",
    "# Careful specifying this number - the output grid is of size n**3\n",
    "# This takes about 5 seconds with n = 100; time should scale \n",
    "# from there roughly as (5 seconds) * (n/100)**3\n",
    "n = 100\n",
    "\n",
    "# Call a routine to define a grid of search parameters. \n",
    "# Default is to search all eccentricities and periastrons.  Periods\n",
    "# to search are passed as log(years), so 1 to 3 is periods of 10 to \n",
    "# 1000 years, for example.  For this system, we have a better constraint \n",
    "# on the period since we have most of the orbit. \n",
    "\n",
    "e_max = 0.999\n",
    "\n",
    "logP_min = np.log10(150)\n",
    "logP_max = np.log10(2000)\n",
    "P_array, e_array, T_array = orbits.grid_P_e_T(n, logP_min, logP_max, T_start=data_start, e_max=e_max)\n",
    "\n",
    "# This is just to see how long it takes:\n",
    "start_time = Time.time()\n",
    "\n",
    "\n",
    "# This is the routine that really does the optimization, returning parameters for \n",
    "# *all* the orbits it tries, and their chi-squares: \n",
    "A_array, B_array, F_array, G_array, sigma_list, chi_squared = orbits.Thiele_Innes_optimal(times_obs, P_array, e_array, \\\n",
    "                                                                              T_array, x_obs, y_obs, \\\n",
    "                                                                              x_errs=x_errs, y_errs=y_errs, \\\n",
    "                                                                              debug=False)\n",
    "\n",
    "# Now optimize the grid a bit - only keep values within the bounds that give \n",
    "# delta chi squared less than 10 from the best fit found so far: \n",
    "\n",
    "best_chi_squared = np.min(chi_squared)\n",
    "delta_chi_squared = 10\n",
    "good_inds = np.where((chi_squared - best_chi_squared) < delta_chi_squared)\n",
    "\n",
    "e_min = np.min(e_array[good_inds])\n",
    "e_max = np.max(e_array[good_inds])\n",
    "\n",
    "logP_min = np.log10(np.min(P_array[good_inds]))\n",
    "logP_max = np.log10(np.max(P_array[good_inds]))\n",
    "\n",
    "tau_min = np.min((T_array[good_inds] - data_start)/P_array[good_inds])\n",
    "tau_max = np.max((T_array[good_inds] - data_start)/P_array[good_inds])\n",
    "\n",
    "print(\"First grid pass of %d points took %0.1f seconds.\" % (n**3, Time.time() - start_time))\n",
    "print(\"Doing regridded search from logP = %0.1f to %0.1f, e = %0.2f to %0.2f, tau = %0.2f to %0.2f\" % \\\n",
    "     (logP_min, logP_max, e_min, e_max, tau_min, tau_max))\n",
    "\n",
    "# Now regrid with these bounds, and run grid search again: \n",
    "\n",
    "n = [250, 100, 100]\n",
    "\n",
    "P_array, e_array, T_array = orbits.grid_P_e_T(n, logP_min, logP_max, e_min, e_max, \\\n",
    "                                              tau_min, tau_max, T_start=data_start)\n",
    "A_array, B_array, F_array, G_array, sigma_list, chi_squared = orbits.Thiele_Innes_optimal(times_obs, P_array, e_array, \\\n",
    "                                                                              T_array, x_obs, y_obs, \\\n",
    "                                                                              x_errs=x_errs, y_errs=y_errs, \\\n",
    "                                                                              debug=False)\n",
    "\n",
    "\n",
    "\n",
    "# Then take these and get the other orbital parameters, too: \n",
    "w_array, a_array, i_array, Omega_array = orbits.Campbell_from_Thiele_Innes(A_array, B_array, F_array, G_array)\n",
    "\n",
    "print(\"Double grid search of %d points took %0.1f seconds.\" % (n[0]*n[1]*n[2], Time.time() - start_time))\n",
    "\n",
    "\n",
    "mass_array = (a_array*d_pc/1000.)**3 / P_array**2\n",
    "\n",
    "\n",
    "# Here is an example of how one might implement a mass prior;\n",
    "# for this orbit we won't do it since we have a lot of data;\n",
    "\n",
    "# Modify the likelihood via a prior on total stellar mass - \n",
    "# decaying power law (from the IMF) above some mass value: \n",
    "#mass_cutoff = 1.0\n",
    "#mass_prior = (mass_array/mass_cutoff)**(-2.3)\n",
    "# That straight power law overweights the low mass end, about which we \n",
    "# want to be agnostic - so just set a flat prior below the cutoff: \n",
    "#low_mass = mass_array < mass_cutoff\n",
    "#mass_prior[low_mass] = 1\n",
    "\n",
    "# Measured masses from http://www.exoplanetkyoto.org/exohtml/HD_1160_b.html:\n",
    "#If uncertanties are not given, treat them as 5%\n",
    "lit_mass = 0.0754125\n",
    "lit_mass_error = 0.0620482\n",
    "lit_d = d_pc\n",
    "lit_d_error = 4.0\n",
    "\n",
    "mass_prior_func = orbits.mass_distance_prior(lit_mass, lit_mass_error, lit_d, lit_d_error)\n",
    "\n",
    "mass_prior = mass_prior_func((a_array/1000.)**3/P_array**2)\n",
    "\n",
    "i_prior = np.sin(i_array)\n",
    "\n",
    "prior = orbits.prior(lit_mass, lit_mass_error, lit_d, lit_d_error, (a_array/1000.)**3/P_array**2, i_array, a_array)\n",
    "\n",
    "# Calculate reduced chi-squared: \n",
    "reduced_chi_squared = chi_squared/(times_obs.size - 3)\n",
    "\n",
    "# Likelihood of a given model is exp(-chi_squared/2); calculate and normalize\n",
    "# also taking the prior into account:\n",
    "likelihood = np.exp(-0.5*reduced_chi_squared) * prior\n",
    "norm_likelihood = likelihood/np.sum(likelihood)\n",
    "\n",
    "\n",
    "# Find the entry with highest likelihood.  This two-step syntax is only \n",
    "# necessary if the chi_squared array has more than one dimension, but \n",
    "# still works for 1D: \n",
    "z_flat = np.argmax(likelihood)\n",
    "z = np.unravel_index(z_flat, likelihood.shape)\n",
    "\n",
    "# Print best chi-squared value, ideally around 1 if it's a good fit: \n",
    "min_chi = reduced_chi_squared[z]\n",
    "print(\"Reduced chi-squared of most likely fit is %0.2f.\" % reduced_chi_squared[z])\n",
    "\n",
    "# And print the orbital parameters, converting some to degrees as needed: \n",
    "print(\"Best-fit:\\n e: %0.2f \\n P: %0.3f \\n T: %0.1f \\n w: %0.2f \\n a: %0.1f \\n i: %0.1f \\n Omega: %0.1f \\n Stellar mass: %0.3f\" % \\\n",
    "      (e_array[z], P_array[z], T_array[z], np.rad2deg(w_array[z]), a_array[z], \n",
    "          np.rad2deg(i_array[z]), np.rad2deg(Omega_array[z]), mass_array[z]))\n",
    "\n",
    "# Calculate the positions from the best-fit orbit:\n",
    "P_best = P_array[z]\n",
    "t_min = np.min(times_obs)\n",
    "# This grid of times is just to have enough points to make a smooth orbit: \n",
    "t_grid = np.linspace(t_min - P_best*0.6, t_min + P_best*0.6, 400)\n",
    "RA_mas_fit, Dec_mas_fit = orbits.keplerian_xy_Thiele_Innes(t_grid, \\\n",
    "                                                   A_array[z], B_array[z], F_array[z], G_array[z], \\\n",
    "                                                   T_array[z], e_array[z], P_array[z])\n",
    "\n"
   ]
  },
  {
   "cell_type": "code",
   "execution_count": 4,
   "metadata": {},
   "outputs": [
    {
     "data": {
      "image/png": "[encoded data removed]",
      "text/plain": [
       "<Figure size 720x720 with 1 Axes>"
      ]
     },
     "metadata": {
      "needs_background": "light"
     },
     "output_type": "display_data"
    }
   ],
   "source": [
    "# And now plot against the data, for comparison:\n",
    "\n",
    "plt.figure(figsize=(10,10))  # Units are inches\n",
    "# Make default font a bit bigger:\n",
    "matplotlib.rcParams['font.size'] = 18   # Font size in points\n",
    "\n",
    "plt.plot(RA_mas_fit, Dec_mas_fit, color='green', label=\"Grid search best fit\")\n",
    "\n",
    "# Also plot the observed data:\n",
    "plt.errorbar(ra_obs, dec_obs, xerr=ra_errs, yerr=dec_errs, \n",
    "             fmt='ko', markersize=10, label=\"Observations\")\n",
    "\n",
    "\n",
    "# Set the limits to be useful for seeing the data - may need\n",
    "# to change this:\n",
    "boundary = 1.2*np.max([np.max(abs(RA_mas_fit)), np.max(abs(Dec_mas_fit))])\n",
    "\n",
    "xmin = -1*boundary\n",
    "xmax = boundary\n",
    "ymin = -1*boundary\n",
    "ymax = boundary\n",
    "plt.xlim([xmin, xmax])\n",
    "plt.ylim([ymin, ymax])\n",
    "\n",
    "# Add dashed lines showing the zero points.\n",
    "# Make the values bigger than the limits, so \n",
    "# they go all the way to the edge: \n",
    "plt.plot([0,0], [ymin*1.1,ymax*1.1], 'k----')\n",
    "plt.plot( [xmin*1.1, xmax*1.1], [0,0], 'k----')\n",
    "\n",
    "# RA is positive to the left, so flip the x axis:\n",
    "ax = plt.gca()\n",
    "ax.invert_xaxis()\n",
    "# Make the plot square:\n",
    "ax.set(aspect='equal')\n",
    "plt.xlabel(\"$\\leftarrow \\Delta$RA (mas)\")\n",
    "plt.ylabel(r\"$\\Delta$Dec (mas) $\\rightarrow $\")\n",
    "plt.title(\"Orbit of %s\" % star_name)\n",
    "plt.legend(loc=\"upper left\", fontsize=14, numpoints=1)\n",
    "#plt.savefig(\"%s_orbit_fit.png\" % star_name)\n",
    "plt.show()"
   ]
  },
  {
   "cell_type": "code",
   "execution_count": 5,
   "metadata": {
    "scrolled": false
   },
   "outputs": [
    {
     "data": {
      "image/png": "[encoded data removed]",
      "text/plain": [
       "<Figure size 720x720 with 1 Axes>"
      ]
     },
     "metadata": {
      "needs_background": "light"
     },
     "output_type": "display_data"
    }
   ],
   "source": [
    "# Now make a histogram of the masses, weighed by their likelihood: \n",
    "\n",
    "# Now plot posterior distributions of some parameters:\n",
    "bins = np.linspace(lit_mass*0.9,lit_mass*1.1,100)\n",
    "plt.figure(figsize=(10,10))  # Units are inches\n",
    "plt.hist(mass_array, weights=norm_likelihood, bins=bins, \\\n",
    "        label=\"Distrib. from partial orbit fit\") \n",
    "plt.xlabel(\"Stellar mass $M_1 + M_2$ ($M_\\odot$)\")\n",
    "plt.ylabel(\"Relative posterior likelihood\")\n",
    "plt.title(star_name)\n",
    "plt.legend(fontsize=14, numpoints=1)\n",
    "# Uncomment to save a plot to a file: \n",
    "#plt.savefig(\"%s_stellar_mass_dist.png\" % star_name)\n",
    "plt.show()\n"
   ]
  },
  {
   "cell_type": "code",
   "execution_count": 6,
   "metadata": {},
   "outputs": [
    {
     "name": "stdout",
     "output_type": "stream",
     "text": [
      "Regridding by factor of 50 took 89.5 seconds.\n"
     ]
    },
    {
     "name": "stderr",
     "output_type": "stream",
     "text": [
      "/Users/ssheppa1/anaconda3/lib/python3.7/site-packages/ipykernel_launcher.py:34: RuntimeWarning: invalid value encountered in true_divide\n"
     ]
    },
    {
     "name": "stdout",
     "output_type": "stream",
     "text": [
      "New (resampled) weighted mean mass is nan Msun.\n",
      "Old (naive) weighted mean mass is 0.0229 Msun.\n"
     ]
    }
   ],
   "source": [
    "# Now get a more refined version of the mass posterior: \n",
    "\n",
    "# Resample the above grid by an extra factor of N, following \n",
    "# method in Lucy 2014B:\n",
    "\n",
    "N = 50\n",
    "\n",
    "start_time = Time.time()\n",
    "\n",
    "w_N, a_N, i_N, T_N, e_N, P_N, Omega_N, new_likelihood, script_ABFG = orbits.correct_orbit_likelihood(\\\n",
    "                                                                                    P_array, e_array, \\\n",
    "                                                                                    T_array, A_array, \\\n",
    "                                                                                    B_array, F_array, \\\n",
    "                                                                                    G_array, sigma_list,\\\n",
    "                                                                                    chi_squared, N)\n",
    "\n",
    "end_time = Time.time()\n",
    "print(\"Regridding by factor of %d took %0.1f seconds.\" % (N, end_time - start_time))\n",
    "\n",
    "\n",
    "# Now get the new posterior:\n",
    "new_likelihood_norm = new_likelihood/np.sum(new_likelihood)\n",
    "\n",
    "mass_N = (a_N*d_pc/1000.)**3 / P_N**2\n",
    "\n",
    "mass_prior = mass_prior_func((a_N/1000.)**3/P_N**2)\n",
    "\n",
    "i_prior = np.sin(i_N)\n",
    "\n",
    "prior = orbits.prior(lit_mass, lit_mass_error, lit_d, lit_d_error, (a_N/1000.)**3/P_N**2, i_N, a_N)\n",
    "\n",
    "# Now modify the likelihood with the prior:\n",
    "new_likelihood = new_likelihood * prior\n",
    "new_likelihood_norm = new_likelihood/np.sum(new_likelihood)\n",
    "\n",
    "\n",
    "log_mass_N = np.log10(mass_N)\n",
    "weighted_mean_mass = 10**(np.sum(log_mass_N * new_likelihood_norm))\n",
    "print(\"New (resampled) weighted mean mass is %0.4f Msun.\" % weighted_mean_mass)\n",
    "\n",
    "old_weighted_mean_mass = 10**(np.sum(np.log10(mass_array) * norm_likelihood))\n",
    "print(\"Old (naive) weighted mean mass is %0.4f Msun.\" % old_weighted_mean_mass)\n",
    "\n"
   ]
  },
  {
   "cell_type": "code",
   "execution_count": 7,
   "metadata": {},
   "outputs": [
    {
     "name": "stderr",
     "output_type": "stream",
     "text": [
      "/Users/ssheppa1/Documents/Notebooks/Fit_Synthetic/orbits.py:989: RuntimeWarning: invalid value encountered in true_divide\n",
      "  flat_likelihood = np.ravel(likelihood)/np.sum(likelihood)\n"
     ]
    },
    {
     "name": "stdout",
     "output_type": "stream",
     "text": [
      "68% credible interval: 0.000 to 0.000 Msun, mean of nan Msun.\n"
     ]
    }
   ],
   "source": [
    "# Get the credible interval for the mass determination:\n",
    "\n",
    "logm_mean, logm_low, logm_high = orbits.credible_interval(log_mass_N, new_likelihood)\n",
    "mass_low = 10**logm_low\n",
    "mass_high = 10**logm_high\n",
    "mass_mean = 10**logm_mean\n",
    "print(\"68%% credible interval: %0.3f to %0.3f Msun, mean of %0.3f Msun.\" % (mass_low, mass_high, mass_mean))\n",
    "\n",
    "low_mass_err = mass_mean - mass_low\n",
    "high_mass_err = mass_high - mass_mean"
   ]
  },
  {
   "cell_type": "code",
   "execution_count": null,
   "metadata": {},
   "outputs": [],
   "source": [
    "#Radians to degrees\n",
    "i_N = np.rad2deg(i_N)\n",
    "w_N = np.rad2deg(w_N)\n",
    "Omega_N = np.rad2deg(Omega_N)\n",
    "\n",
    "#milliarcseconds to AU\n",
    "a_N = orbits.mas2au(a_N, d_pc)\n",
    "\n",
    "# Get the credible interval for the semimajor axis: \n",
    "P_mean, P_low, P_high = orbits.credible_interval(P_N, new_likelihood) \n",
    "e_mean, e_low, e_high = orbits.credible_interval(e_N, new_likelihood) \n",
    "T_mean, T_low, T_high = orbits.credible_interval(T_N, new_likelihood) \n",
    "a_mean, a_low, a_high = orbits.credible_interval(a_N, new_likelihood)\n",
    "i_mean, i_low, i_high = orbits.credible_interval(i_N, new_likelihood) \n",
    "w_mean, w_low, w_high = orbits.credible_interval(w_N, new_likelihood) \n",
    "Omega_mean, Omega_low, Omega_high = orbits.credible_interval(Omega_N, new_likelihood)\n",
    "\n",
    "print(\"68%% P credible interval: %0.3f to %0.3f, mean of %0.3f.\" % (P_low, P_high, P_mean))\n",
    "print(\"68%% e credible interval: %0.3f to %0.3f, mean of %0.3f.\" % (e_low, e_high, e_mean))\n",
    "print(\"68%% T credible interval: %0.3f to %0.3f, mean of %0.3f.\" % (T_low, T_high, T_mean))\n",
    "print(\"68%% a credible interval: %0.3f to %0.3f, mean of %0.3f.\" % (a_low, a_high, a_mean))\n",
    "print(\"68%% i credible interval: %0.3f to %0.3f, mean of %0.3f.\" % (i_low, i_high, i_mean))\n",
    "print(\"68%% w credible interval: %0.3f to %0.3f, mean of %0.3f.\" % (w_low, w_high, w_mean))\n",
    "print(\"68%% Omega credible interval: %0.3f to %0.3f, mean of %0.3f.\" % (Omega_low, Omega_high, Omega_mean))"
   ]
  },
  {
   "cell_type": "code",
   "execution_count": null,
   "metadata": {},
   "outputs": [],
   "source": [
    "print(\"Full calculation took %0.1f seconds.\" % (end_time - overall_start_time))"
   ]
  },
  {
   "cell_type": "code",
   "execution_count": null,
   "metadata": {
    "scrolled": false
   },
   "outputs": [],
   "source": [
    "mass_info = orbits.store_parameter_info('Mass', mass_N, mass_mean, mass_low, mass_high, lit_param=lit_mass, \\\n",
    "                                       lit_param_err_low=low_mass_err, lit_param_err_high=high_mass_err)\n",
    "\n",
    "P_info = orbits.store_parameter_info('P', P_N, P_mean, P_low, P_high)\n",
    "\n",
    "T_info = orbits.store_parameter_info('T', T_N, T_mean, T_low, T_high)\n",
    "\n",
    "e_range = [0.0, 1.0]\n",
    "e_info = orbits.store_parameter_info('e', e_N, e_mean, e_low, e_high, graph_range=e_range)\n",
    "\n",
    "a_info = orbits.store_parameter_info('a', a_N, a_mean, a_low, a_high)\n",
    "\n",
    "i_range = [90, 180]\n",
    "i_info = orbits.store_parameter_info('i', i_N, i_mean, i_low, i_high, graph_range=i_range)\n",
    "\n",
    "w_range = [0, 360]\n",
    "w_info = orbits.store_parameter_info('w', w_N, w_mean, w_low, w_high, graph_range=w_range)\n",
    "\n",
    "Omega_range = [0, 180]\n",
    "Omega_info = orbits.store_parameter_info('Omega', Omega_N, Omega_mean, Omega_low, Omega_high, graph_range=Omega_range)\n",
    "\n",
    "parameter_info = [mass_info, P_info, T_info, e_info, a_info, i_info, w_info, Omega_info]\n",
    "orbits.loop_posteriors(new_likelihood_norm, star_name, parameter_info)"
   ]
  },
  {
   "cell_type": "code",
   "execution_count": null,
   "metadata": {},
   "outputs": [],
   "source": []
  }
 ],
 "metadata": {
  "anaconda-cloud": {},
  "kernelspec": {
   "display_name": "Python 3",
   "language": "python",
   "name": "python3"
  },
  "language_info": {
   "codemirror_mode": {
    "name": "ipython",
    "version": 3
   },
   "file_extension": ".py",
   "mimetype": "text/x-python",
   "name": "python",
   "nbconvert_exporter": "python",
   "pygments_lexer": "ipython3",
   "version": "3.7.3"
  }
 },
 "nbformat": 4,
 "nbformat_minor": 1
}
